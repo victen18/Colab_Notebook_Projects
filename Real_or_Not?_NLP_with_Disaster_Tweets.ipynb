{
  "nbformat": 4,
  "nbformat_minor": 0,
  "metadata": {
    "colab": {
      "name": "Real or Not? NLP with Disaster Tweets.ipynb",
      "provenance": [],
      "collapsed_sections": [],
      "authorship_tag": "ABX9TyNZQB2nxw+5ZE3rx2XH3yXX",
      "include_colab_link": true
    },
    "kernelspec": {
      "name": "python3",
      "display_name": "Python 3"
    },
    "accelerator": "GPU"
  },
  "cells": [
    {
      "cell_type": "markdown",
      "metadata": {
        "id": "view-in-github",
        "colab_type": "text"
      },
      "source": [
        "<a href=\"https://colab.research.google.com/github/victen18/Colab_Notebook_Projects/blob/main/Real_or_Not%3F_NLP_with_Disaster_Tweets.ipynb\" target=\"_parent\"><img src=\"https://colab.research.google.com/assets/colab-badge.svg\" alt=\"Open In Colab\"/></a>"
      ]
    },
    {
      "cell_type": "markdown",
      "metadata": {
        "id": "ImEplfyC8jh0"
      },
      "source": [
        "**Predict which Tweets are about real disasters and which ones are not**"
      ]
    },
    {
      "cell_type": "markdown",
      "metadata": {
        "id": "Hyd2ayT_83ev"
      },
      "source": [
        "![images.png](data:image/png;base64,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)"
      ]
    },
    {
      "cell_type": "code",
      "metadata": {
        "id": "Lsx9qkik8_ay",
        "colab": {
          "base_uri": "https://localhost:8080/"
        },
        "outputId": "bcf392c1-f45e-4a5f-9fbc-1b485039a375"
      },
      "source": [
        "import pandas as pd\n",
        "import numpy as np\n",
        "import matplotlib.pyplot as plt\n",
        "import seaborn as sns\n",
        "import nltk\n",
        "nltk.download('stopwords')\n",
        "nltk.download('punkt')\n",
        "from nltk.corpus import stopwords\n",
        "from nltk.util import ngrams\n",
        "from sklearn.feature_extraction.text import CountVectorizer\n",
        "from collections import defaultdict\n",
        "from collections import Counter\n",
        "plt.style.use('ggplot')\n",
        "stop = set(stopwords.words('english'))\n",
        "import re\n",
        "from nltk.tokenize import word_tokenize\n",
        "import gensim\n",
        "import string\n",
        "from keras.preprocessing.text import Tokenizer\n",
        "from keras.preprocessing.sequence import pad_sequences\n",
        "from tqdm import tqdm\n",
        "from keras.models import Sequential\n",
        "from keras.layers import Embedding,LSTM,Dense,SpatialDropout1D\n",
        "from keras.initializers import Constant\n",
        "from sklearn.model_selection import train_test_split\n",
        "from keras.optimizers import Adam\n",
        "import os\n",
        "import warnings\n",
        "warnings.filterwarnings('ignore')"
      ],
      "execution_count": 1,
      "outputs": [
        {
          "output_type": "stream",
          "text": [
            "[nltk_data] Downloading package stopwords to /root/nltk_data...\n",
            "[nltk_data]   Unzipping corpora/stopwords.zip.\n",
            "[nltk_data] Downloading package punkt to /root/nltk_data...\n",
            "[nltk_data]   Unzipping tokenizers/punkt.zip.\n"
          ],
          "name": "stdout"
        }
      ]
    },
    {
      "cell_type": "code",
      "metadata": {
        "id": "UH88PF2p2CKc",
        "colab": {
          "base_uri": "https://localhost:8080/"
        },
        "outputId": "0bd4e864-239d-4229-abd6-0aeda8779186"
      },
      "source": [
        "from google.colab import drive\n",
        "drive.mount('/content/gdrive')"
      ],
      "execution_count": 2,
      "outputs": [
        {
          "output_type": "stream",
          "text": [
            "Mounted at /content/gdrive\n"
          ],
          "name": "stdout"
        }
      ]
    },
    {
      "cell_type": "code",
      "metadata": {
        "id": "PQCYNgKCFLO3",
        "colab": {
          "base_uri": "https://localhost:8080/",
          "height": 195
        },
        "outputId": "0a3786a9-7599-4d96-d1ac-e93207d3a6c0"
      },
      "source": [
        "\n",
        "tweet = pd.read_csv('/content/gdrive/My Drive/data/train.csv')\n",
        "test = pd.read_csv('/content/gdrive/My Drive/data/test.csv')\n",
        "tweet.head()"
      ],
      "execution_count": 3,
      "outputs": [
        {
          "output_type": "execute_result",
          "data": {
            "text/html": [
              "<div>\n",
              "<style scoped>\n",
              "    .dataframe tbody tr th:only-of-type {\n",
              "        vertical-align: middle;\n",
              "    }\n",
              "\n",
              "    .dataframe tbody tr th {\n",
              "        vertical-align: top;\n",
              "    }\n",
              "\n",
              "    .dataframe thead th {\n",
              "        text-align: right;\n",
              "    }\n",
              "</style>\n",
              "<table border=\"1\" class=\"dataframe\">\n",
              "  <thead>\n",
              "    <tr style=\"text-align: right;\">\n",
              "      <th></th>\n",
              "      <th>id</th>\n",
              "      <th>keyword</th>\n",
              "      <th>location</th>\n",
              "      <th>text</th>\n",
              "      <th>target</th>\n",
              "    </tr>\n",
              "  </thead>\n",
              "  <tbody>\n",
              "    <tr>\n",
              "      <th>0</th>\n",
              "      <td>1</td>\n",
              "      <td>NaN</td>\n",
              "      <td>NaN</td>\n",
              "      <td>Our Deeds are the Reason of this #earthquake M...</td>\n",
              "      <td>1</td>\n",
              "    </tr>\n",
              "    <tr>\n",
              "      <th>1</th>\n",
              "      <td>4</td>\n",
              "      <td>NaN</td>\n",
              "      <td>NaN</td>\n",
              "      <td>Forest fire near La Ronge Sask. Canada</td>\n",
              "      <td>1</td>\n",
              "    </tr>\n",
              "    <tr>\n",
              "      <th>2</th>\n",
              "      <td>5</td>\n",
              "      <td>NaN</td>\n",
              "      <td>NaN</td>\n",
              "      <td>All residents asked to 'shelter in place' are ...</td>\n",
              "      <td>1</td>\n",
              "    </tr>\n",
              "    <tr>\n",
              "      <th>3</th>\n",
              "      <td>6</td>\n",
              "      <td>NaN</td>\n",
              "      <td>NaN</td>\n",
              "      <td>13,000 people receive #wildfires evacuation or...</td>\n",
              "      <td>1</td>\n",
              "    </tr>\n",
              "    <tr>\n",
              "      <th>4</th>\n",
              "      <td>7</td>\n",
              "      <td>NaN</td>\n",
              "      <td>NaN</td>\n",
              "      <td>Just got sent this photo from Ruby #Alaska as ...</td>\n",
              "      <td>1</td>\n",
              "    </tr>\n",
              "  </tbody>\n",
              "</table>\n",
              "</div>"
            ],
            "text/plain": [
              "   id keyword  ...                                               text target\n",
              "0   1     NaN  ...  Our Deeds are the Reason of this #earthquake M...      1\n",
              "1   4     NaN  ...             Forest fire near La Ronge Sask. Canada      1\n",
              "2   5     NaN  ...  All residents asked to 'shelter in place' are ...      1\n",
              "3   6     NaN  ...  13,000 people receive #wildfires evacuation or...      1\n",
              "4   7     NaN  ...  Just got sent this photo from Ruby #Alaska as ...      1\n",
              "\n",
              "[5 rows x 5 columns]"
            ]
          },
          "metadata": {
            "tags": []
          },
          "execution_count": 3
        }
      ]
    },
    {
      "cell_type": "code",
      "metadata": {
        "id": "kSW63-7lFUag",
        "colab": {
          "base_uri": "https://localhost:8080/"
        },
        "outputId": "0eaac477-c88b-4fe6-85fb-ecf994e56f3a"
      },
      "source": [
        "tweet.shape,test.shape"
      ],
      "execution_count": 4,
      "outputs": [
        {
          "output_type": "execute_result",
          "data": {
            "text/plain": [
              "((7613, 5), (3263, 4))"
            ]
          },
          "metadata": {
            "tags": []
          },
          "execution_count": 4
        }
      ]
    },
    {
      "cell_type": "code",
      "metadata": {
        "id": "3QObEbEBFjFC",
        "colab": {
          "base_uri": "https://localhost:8080/"
        },
        "outputId": "c937cc53-25df-4408-ef63-463221bed6b0"
      },
      "source": [
        "print('There are {} rows and {} columns in tweet'.format(tweet.shape[0],tweet.shape[1]))\n",
        "print('There are {} rows and {} columns in test'.format(test.shape[0],test.shape[1]))"
      ],
      "execution_count": 5,
      "outputs": [
        {
          "output_type": "stream",
          "text": [
            "There are 7613 rows and 5 columns in tweet\n",
            "There are 3263 rows and 4 columns in test\n"
          ],
          "name": "stdout"
        }
      ]
    },
    {
      "cell_type": "markdown",
      "metadata": {
        "id": "Iqc_h8p6GlpM"
      },
      "source": [
        "## Class distribution"
      ]
    },
    {
      "cell_type": "code",
      "metadata": {
        "id": "yoP58jH-Gq5i",
        "colab": {
          "base_uri": "https://localhost:8080/",
          "height": 265
        },
        "outputId": "be1f81cb-f1c4-4a0e-9f7e-e2d65ee602b7"
      },
      "source": [
        "x  = tweet['target'].value_counts()\n",
        "sns.barplot(x=x.index,y=x)\n",
        "plt.gca().set_ylabel('Samples')\n",
        "plt.show()\n"
      ],
      "execution_count": 6,
      "outputs": [
        {
          "output_type": "display_data",
          "data": {
            "image/png": "[encoded data removed]",
            "text/plain": [
              "<Figure size 432x288 with 1 Axes>"
            ]
          },
          "metadata": {
            "tags": [],
            "needs_background": "light"
          }
        }
      ]
    },
    {
      "cell_type": "markdown",
      "metadata": {
        "id": "hVFTpeQyG6cj"
      },
      "source": [
        "ohh,as expected ! There is a class distribution.There are more tweets with class 0 ( No disaster) than class 1 ( disaster tweets)"
      ]
    },
    {
      "cell_type": "markdown",
      "metadata": {
        "id": "4ZPqF25BHh0u"
      },
      "source": [
        "## Exploratory Data Analysis of tweets\n",
        "First,we will do very basic analysis,that is character level,word level and sentence level analysis.\n",
        "\n",
        "## Number of characters in tweets\n"
      ]
    },
    {
      "cell_type": "code",
      "metadata": {
        "id": "Y_FRHMfyH3k-",
        "colab": {
          "base_uri": "https://localhost:8080/",
          "height": 356
        },
        "outputId": "fa74ee25-7985-452f-90f9-3138aaf9a97f"
      },
      "source": [
        "fig,(ax1,ax2) = plt.subplots(1,2,figsize=(10,5))\n",
        "tweet_len = tweet[tweet['target'] == 1]['text'].str.len()\n",
        "ax1.hist(tweet_len,color='red')\n",
        "ax1.set_title('disaster tweets')\n",
        "tweet_len = tweet[tweet['target'] == 0]['text'].str.len()\n",
        "ax2.hist(tweet_len,color='blue')\n",
        "ax2.set_title('non-disaster tweets')\n",
        "fig.suptitle('Characters in Tweets')\n",
        "plt.show()"
      ],
      "execution_count": 7,
      "outputs": [
        {
          "output_type": "display_data",
          "data": {
            "image/png": "[encoded data removed]",
            "text/plain": [
              "<Figure size 720x360 with 2 Axes>"
            ]
          },
          "metadata": {
            "tags": [],
            "needs_background": "light"
          }
        }
      ]
    },
    {
      "cell_type": "markdown",
      "metadata": {
        "id": "Fx8cRy4413JF"
      },
      "source": [
        "## Number of words in a tweet"
      ]
    },
    {
      "cell_type": "code",
      "metadata": {
        "id": "HVuW2RqI2uAS",
        "colab": {
          "base_uri": "https://localhost:8080/",
          "height": 356
        },
        "outputId": "35e1620a-2b6b-47fe-d74c-02c86819fed8"
      },
      "source": [
        "fig,(ax1,ax2) = plt.subplots(1,2,figsize=(10,5))\n",
        "tweet_len = tweet[tweet['target'] == 1]['text'].str.split().map(lambda x: len(x))\n",
        "ax1.hist(tweet_len,color='red')\n",
        "ax1.set_title('disaster_tweet')\n",
        "tweet_len = tweet[tweet['target'] == 0]['text'].str.split().map(lambda x: len(x))\n",
        "ax2.hist(tweet_len,color='blue')\n",
        "ax2.set_title('Not disaster tweets')\n",
        "fig.suptitle('Words in a tweet')\n",
        "plt.show()\n"
      ],
      "execution_count": 8,
      "outputs": [
        {
          "output_type": "display_data",
          "data": {
            "image/png": "[encoded data removed]",
            "text/plain": [
              "<Figure size 720x360 with 2 Axes>"
            ]
          },
          "metadata": {
            "tags": [],
            "needs_background": "light"
          }
        }
      ]
    },
    {
      "cell_type": "markdown",
      "metadata": {
        "id": "A9g7C8l68xYH"
      },
      "source": [
        "## Average word length in a tweet"
      ]
    },
    {
      "cell_type": "code",
      "metadata": {
        "id": "YT-Y9K3rVOU6",
        "colab": {
          "base_uri": "https://localhost:8080/",
          "height": 390
        },
        "outputId": "4d89a881-6639-437b-fc97-9fba8ee2a7ac"
      },
      "source": [
        "fig,(ax1,ax2)=plt.subplots(1,2,figsize=(10,5))\n",
        "word=tweet[tweet['target']==1]['text'].str.split().apply(lambda x : [len(i) for i in x])\n",
        "sns.distplot(word.map(lambda x: np.mean(x)),ax=ax1,color='red')\n",
        "ax1.set_title('disaster')\n",
        "word=tweet[tweet['target']==0]['text'].str.split().apply(lambda x : [len(i) for i in x])\n",
        "sns.distplot(word.map(lambda x: np.mean(x)),ax=ax2,color='green')\n",
        "ax2.set_title('Not disaster')\n",
        "fig.suptitle('Average word length in each tweet')\n"
      ],
      "execution_count": 9,
      "outputs": [
        {
          "output_type": "execute_result",
          "data": {
            "text/plain": [
              "Text(0.5, 0.98, 'Average word length in each tweet')"
            ]
          },
          "metadata": {
            "tags": []
          },
          "execution_count": 9
        },
        {
          "output_type": "display_data",
          "data": {
            "image/png": "[encoded data removed]",
            "text/plain": [
              "<Figure size 720x360 with 2 Axes>"
            ]
          },
          "metadata": {
            "tags": [],
            "needs_background": "light"
          }
        }
      ]
    },
    {
      "cell_type": "code",
      "metadata": {
        "id": "qUiiIvMO7pdb"
      },
      "source": [
        "def create_corpus(target):\n",
        "    corpus=[]\n",
        "    \n",
        "    for x in tweet[tweet['target']==target]['text'].str.split():\n",
        "        for i in x:\n",
        "            corpus.append(i)\n",
        "    return corpus"
      ],
      "execution_count": 10,
      "outputs": []
    },
    {
      "cell_type": "markdown",
      "metadata": {
        "id": "kUqIq-6m7s24"
      },
      "source": [
        "## Common stopwords in tweets"
      ]
    },
    {
      "cell_type": "code",
      "metadata": {
        "id": "4Y44UYQk_z37"
      },
      "source": [
        "corpus=create_corpus(0)\n",
        "\n",
        "dic=defaultdict(int)\n",
        "for word in corpus:\n",
        "    if word in stop:\n",
        "        dic[word]+=1\n",
        "        \n",
        "top=sorted(dic.items(), key=lambda x:x[1],reverse=True)[:10] "
      ],
      "execution_count": 11,
      "outputs": []
    },
    {
      "cell_type": "code",
      "metadata": {
        "id": "Lve8FnHjAEWV",
        "colab": {
          "base_uri": "https://localhost:8080/",
          "height": 286
        },
        "outputId": "b5572826-48d7-432c-bb0d-0336b0441377"
      },
      "source": [
        "x,y = zip(*top)\n",
        "plt.bar(x,y)"
      ],
      "execution_count": 12,
      "outputs": [
        {
          "output_type": "execute_result",
          "data": {
            "text/plain": [
              "<BarContainer object of 10 artists>"
            ]
          },
          "metadata": {
            "tags": []
          },
          "execution_count": 12
        },
        {
          "output_type": "display_data",
          "data": {
            "image/png": "[encoded data removed]",
            "text/plain": [
              "<Figure size 432x288 with 1 Axes>"
            ]
          },
          "metadata": {
            "tags": [],
            "needs_background": "light"
          }
        }
      ]
    },
    {
      "cell_type": "code",
      "metadata": {
        "id": "fvFBcAThCCLe",
        "colab": {
          "base_uri": "https://localhost:8080/",
          "height": 282
        },
        "outputId": "e9d8492b-7fb0-4182-d53f-73c557f17c28"
      },
      "source": [
        "corpus=create_corpus(1)\n",
        "\n",
        "dic=defaultdict(int)\n",
        "for word in corpus:\n",
        "    if word in stop:\n",
        "        dic[word]+=1\n",
        "\n",
        "top=sorted(dic.items(), key=lambda x:x[1],reverse=True)[:10] \n",
        "    \n",
        "\n",
        "\n",
        "x,y=zip(*top)\n",
        "plt.bar(x,y)"
      ],
      "execution_count": 13,
      "outputs": [
        {
          "output_type": "execute_result",
          "data": {
            "text/plain": [
              "<BarContainer object of 10 artists>"
            ]
          },
          "metadata": {
            "tags": []
          },
          "execution_count": 13
        },
        {
          "output_type": "display_data",
          "data": {
            "image/png": "[encoded data removed]",
            "text/plain": [
              "<Figure size 432x288 with 1 Axes>"
            ]
          },
          "metadata": {
            "tags": [],
            "needs_background": "light"
          }
        }
      ]
    },
    {
      "cell_type": "markdown",
      "metadata": {
        "id": "sMAE13q1CQwj"
      },
      "source": [
        "###Analyzing punctuations."
      ]
    },
    {
      "cell_type": "code",
      "metadata": {
        "id": "-GgOJOefCWU7",
        "colab": {
          "base_uri": "https://localhost:8080/",
          "height": 337
        },
        "outputId": "84074fb9-cf77-4952-eb49-e7954d61e087"
      },
      "source": [
        "plt.figure(figsize=(10,5))\n",
        "corpus = create_corpus(1)\n",
        "\n",
        "dic = defaultdict(int)\n",
        "import string\n",
        "special = string.punctuation\n",
        "for i in (corpus):\n",
        "  if i in special:\n",
        "    dic[i]+=1\n",
        "\n",
        "x,y = zip(*dic.items())\n",
        "plt.bar(x,y)"
      ],
      "execution_count": 14,
      "outputs": [
        {
          "output_type": "execute_result",
          "data": {
            "text/plain": [
              "<BarContainer object of 18 artists>"
            ]
          },
          "metadata": {
            "tags": []
          },
          "execution_count": 14
        },
        {
          "output_type": "display_data",
          "data": {
            "image/png": "[encoded data removed]",
            "text/plain": [
              "<Figure size 720x360 with 1 Axes>"
            ]
          },
          "metadata": {
            "tags": [],
            "needs_background": "light"
          }
        }
      ]
    },
    {
      "cell_type": "code",
      "metadata": {
        "id": "6JF9nD4JCuuu",
        "colab": {
          "base_uri": "https://localhost:8080/",
          "height": 337
        },
        "outputId": "16d2e988-ca41-421e-8ff3-8b990694365e"
      },
      "source": [
        "plt.figure(figsize=(10,5))\n",
        "corpus = create_corpus(0)\n",
        "\n",
        "dic = defaultdict(int)\n",
        "import string\n",
        "special = string.punctuation\n",
        "for i in (corpus):\n",
        "  if i in special:\n",
        "    dic[i]+=1\n",
        "\n",
        "x,y = zip(*dic.items())\n",
        "plt.bar(x,y,color='green')"
      ],
      "execution_count": 15,
      "outputs": [
        {
          "output_type": "execute_result",
          "data": {
            "text/plain": [
              "<BarContainer object of 20 artists>"
            ]
          },
          "metadata": {
            "tags": []
          },
          "execution_count": 15
        },
        {
          "output_type": "display_data",
          "data": {
            "image/png": "[encoded data removed]",
            "text/plain": [
              "<Figure size 720x360 with 1 Axes>"
            ]
          },
          "metadata": {
            "tags": [],
            "needs_background": "light"
          }
        }
      ]
    },
    {
      "cell_type": "markdown",
      "metadata": {
        "id": "epQX6r6FDCaF"
      },
      "source": [
        "### common words"
      ]
    },
    {
      "cell_type": "code",
      "metadata": {
        "id": "lY6Za1OCDNJs"
      },
      "source": [
        "counter = Counter(corpus)\n",
        "most = counter.most_common()\n",
        "x = []\n",
        "y = []\n",
        "\n",
        "for word,count in most[:40]:\n",
        "  if(word not in stop):\n",
        "    x.append(word)\n",
        "    y.append(count)"
      ],
      "execution_count": 16,
      "outputs": []
    },
    {
      "cell_type": "code",
      "metadata": {
        "id": "uQsHC4XYDfm-",
        "colab": {
          "base_uri": "https://localhost:8080/",
          "height": 500
        },
        "outputId": "ee698c95-33bd-49ea-f969-8afbe92a6377"
      },
      "source": [
        "plt.figure(figsize=(10,8))\n",
        "sns.barplot(x=y,y=x)"
      ],
      "execution_count": 17,
      "outputs": [
        {
          "output_type": "execute_result",
          "data": {
            "text/plain": [
              "<matplotlib.axes._subplots.AxesSubplot at 0x7f29fed56358>"
            ]
          },
          "metadata": {
            "tags": []
          },
          "execution_count": 17
        },
        {
          "output_type": "display_data",
          "data": {
            "image/png": "[encoded data removed]",
            "text/plain": [
              "<Figure size 720x576 with 1 Axes>"
            ]
          },
          "metadata": {
            "tags": [],
            "needs_background": "light"
          }
        }
      ]
    },
    {
      "cell_type": "markdown",
      "metadata": {
        "id": "YhKc0BXBDhM5"
      },
      "source": [
        "###Ngram analysis"
      ]
    },
    {
      "cell_type": "markdown",
      "metadata": {
        "id": "7TjczUxxD-bH"
      },
      "source": [
        "we will do a bigram (n=2) analysis over the tweets.Let's check the most common bigrams in tweets."
      ]
    },
    {
      "cell_type": "code",
      "metadata": {
        "id": "FiWpRKYkFCp7"
      },
      "source": [
        "def get_top_tweet_bigrams(corpus,n=None):\n",
        "  vec = CountVectorizer(ngram_range=(2,2)).fit(corpus)\n",
        "  bag_of_words = vec.transform(corpus)\n",
        "  sum_words = bag_of_words.sum(axis=0)\n",
        "  words_freq = [(word,sum_words[0,idx]) for word, idx in vec.vocabulary_.items()]\n",
        "  words_freq = sorted(words_freq,key = lambda x:x[1],reverse=True)\n",
        "  return words_freq[:n]"
      ],
      "execution_count": 18,
      "outputs": []
    },
    {
      "cell_type": "code",
      "metadata": {
        "id": "Z8T-GoPqFutX",
        "colab": {
          "base_uri": "https://localhost:8080/",
          "height": 337
        },
        "outputId": "1a07068a-ed13-4d5c-b362-afd2bae70074"
      },
      "source": [
        "plt.figure(figsize=(10,5))\n",
        "top_tweet_bigrams = get_top_tweet_bigrams(tweet['text'])[:10]\n",
        "x,y = map(list,zip(*top_tweet_bigrams))\n",
        "sns.barplot(x=y,y=x)"
      ],
      "execution_count": 19,
      "outputs": [
        {
          "output_type": "execute_result",
          "data": {
            "text/plain": [
              "<matplotlib.axes._subplots.AxesSubplot at 0x7f29fecc4e80>"
            ]
          },
          "metadata": {
            "tags": []
          },
          "execution_count": 19
        },
        {
          "output_type": "display_data",
          "data": {
            "image/png": "[encoded data removed]",
            "text/plain": [
              "<Figure size 720x360 with 1 Axes>"
            ]
          },
          "metadata": {
            "tags": [],
            "needs_background": "light"
          }
        }
      ]
    },
    {
      "cell_type": "markdown",
      "metadata": {
        "id": "lcbZiVHlGBhu"
      },
      "source": [
        "##Data Cleaning"
      ]
    },
    {
      "cell_type": "code",
      "metadata": {
        "colab": {
          "base_uri": "https://localhost:8080/",
          "height": 195
        },
        "id": "k4ig2rYdyHXw",
        "outputId": "49950cb0-a36b-4a7d-8b63-d6ce3d051871"
      },
      "source": [
        "df = pd.concat([tweet,test])\n",
        "df.head()"
      ],
      "execution_count": 20,
      "outputs": [
        {
          "output_type": "execute_result",
          "data": {
            "text/html": [
              "<div>\n",
              "<style scoped>\n",
              "    .dataframe tbody tr th:only-of-type {\n",
              "        vertical-align: middle;\n",
              "    }\n",
              "\n",
              "    .dataframe tbody tr th {\n",
              "        vertical-align: top;\n",
              "    }\n",
              "\n",
              "    .dataframe thead th {\n",
              "        text-align: right;\n",
              "    }\n",
              "</style>\n",
              "<table border=\"1\" class=\"dataframe\">\n",
              "  <thead>\n",
              "    <tr style=\"text-align: right;\">\n",
              "      <th></th>\n",
              "      <th>id</th>\n",
              "      <th>keyword</th>\n",
              "      <th>location</th>\n",
              "      <th>text</th>\n",
              "      <th>target</th>\n",
              "    </tr>\n",
              "  </thead>\n",
              "  <tbody>\n",
              "    <tr>\n",
              "      <th>0</th>\n",
              "      <td>1</td>\n",
              "      <td>NaN</td>\n",
              "      <td>NaN</td>\n",
              "      <td>Our Deeds are the Reason of this #earthquake M...</td>\n",
              "      <td>1.0</td>\n",
              "    </tr>\n",
              "    <tr>\n",
              "      <th>1</th>\n",
              "      <td>4</td>\n",
              "      <td>NaN</td>\n",
              "      <td>NaN</td>\n",
              "      <td>Forest fire near La Ronge Sask. Canada</td>\n",
              "      <td>1.0</td>\n",
              "    </tr>\n",
              "    <tr>\n",
              "      <th>2</th>\n",
              "      <td>5</td>\n",
              "      <td>NaN</td>\n",
              "      <td>NaN</td>\n",
              "      <td>All residents asked to 'shelter in place' are ...</td>\n",
              "      <td>1.0</td>\n",
              "    </tr>\n",
              "    <tr>\n",
              "      <th>3</th>\n",
              "      <td>6</td>\n",
              "      <td>NaN</td>\n",
              "      <td>NaN</td>\n",
              "      <td>13,000 people receive #wildfires evacuation or...</td>\n",
              "      <td>1.0</td>\n",
              "    </tr>\n",
              "    <tr>\n",
              "      <th>4</th>\n",
              "      <td>7</td>\n",
              "      <td>NaN</td>\n",
              "      <td>NaN</td>\n",
              "      <td>Just got sent this photo from Ruby #Alaska as ...</td>\n",
              "      <td>1.0</td>\n",
              "    </tr>\n",
              "  </tbody>\n",
              "</table>\n",
              "</div>"
            ],
            "text/plain": [
              "   id keyword  ...                                               text target\n",
              "0   1     NaN  ...  Our Deeds are the Reason of this #earthquake M...    1.0\n",
              "1   4     NaN  ...             Forest fire near La Ronge Sask. Canada    1.0\n",
              "2   5     NaN  ...  All residents asked to 'shelter in place' are ...    1.0\n",
              "3   6     NaN  ...  13,000 people receive #wildfires evacuation or...    1.0\n",
              "4   7     NaN  ...  Just got sent this photo from Ruby #Alaska as ...    1.0\n",
              "\n",
              "[5 rows x 5 columns]"
            ]
          },
          "metadata": {
            "tags": []
          },
          "execution_count": 20
        }
      ]
    },
    {
      "cell_type": "code",
      "metadata": {
        "colab": {
          "base_uri": "https://localhost:8080/"
        },
        "id": "u-G2X8DjzRq5",
        "outputId": "cbc57aa1-dc50-415c-f538-c18dc602f3f0"
      },
      "source": [
        "df.shape"
      ],
      "execution_count": 21,
      "outputs": [
        {
          "output_type": "execute_result",
          "data": {
            "text/plain": [
              "(10876, 5)"
            ]
          },
          "metadata": {
            "tags": []
          },
          "execution_count": 21
        }
      ]
    },
    {
      "cell_type": "markdown",
      "metadata": {
        "id": "xqTktB-pzVD9"
      },
      "source": [
        "###### Removing URLS using Regular Expression"
      ]
    },
    {
      "cell_type": "code",
      "metadata": {
        "id": "5gSfoUf2zfE6"
      },
      "source": [
        "#Code example\n",
        "\n",
        "example = 'New Competetion launched :https://www.kaggle.com/c/nlp-getting-started '"
      ],
      "execution_count": 22,
      "outputs": []
    },
    {
      "cell_type": "code",
      "metadata": {
        "colab": {
          "base_uri": "https://localhost:8080/",
          "height": 35
        },
        "id": "PBFFt_Nezxs2",
        "outputId": "58c9223a-aa79-491b-9405-14562ed83126"
      },
      "source": [
        "def remove_URL(text):\n",
        "  url = re.compile(r'https?://\\S+|www\\.\\S+')\n",
        "  return url.sub(r'',text)\n",
        "\n",
        "remove_URL(example)"
      ],
      "execution_count": 23,
      "outputs": [
        {
          "output_type": "execute_result",
          "data": {
            "application/vnd.google.colaboratory.intrinsic+json": {
              "type": "string"
            },
            "text/plain": [
              "'New Competetion launched : '"
            ]
          },
          "metadata": {
            "tags": []
          },
          "execution_count": 23
        }
      ]
    },
    {
      "cell_type": "code",
      "metadata": {
        "id": "0GJxpXXA0FqT"
      },
      "source": [
        "df['text'] = df['text'].apply(lambda x: remove_URL(x))"
      ],
      "execution_count": 24,
      "outputs": []
    },
    {
      "cell_type": "markdown",
      "metadata": {
        "id": "yh0KLOPu0KLi"
      },
      "source": [
        "##### Removing HTML Tags"
      ]
    },
    {
      "cell_type": "code",
      "metadata": {
        "id": "uN-fC1eW0TPh"
      },
      "source": [
        "example = \"\"\"<div>\n",
        "<h1>Real or Fake</h1>\n",
        "<p>Kaggle </p>\n",
        "<a href=\"https://www.kaggle.com/c/nlp-getting-started\">getting started</a>\n",
        "</div>\"\"\"\n"
      ],
      "execution_count": 25,
      "outputs": []
    },
    {
      "cell_type": "code",
      "metadata": {
        "colab": {
          "base_uri": "https://localhost:8080/"
        },
        "id": "ezGKJ2k30eGX",
        "outputId": "4fc65c78-b666-4fbc-a135-f2d15250c31b"
      },
      "source": [
        "def remove_html(text):\n",
        "    html=re.compile(r'<.*?>')\n",
        "    return html.sub(r'',text)\n",
        "print(remove_html(example))"
      ],
      "execution_count": 26,
      "outputs": [
        {
          "output_type": "stream",
          "text": [
            "\n",
            "Real or Fake\n",
            "Kaggle \n",
            "getting started\n",
            "\n"
          ],
          "name": "stdout"
        }
      ]
    },
    {
      "cell_type": "code",
      "metadata": {
        "id": "4YYPiSqF0tAs"
      },
      "source": [
        "df['text'] = df['text'].apply(lambda x:remove_html(x))"
      ],
      "execution_count": 27,
      "outputs": []
    },
    {
      "cell_type": "markdown",
      "metadata": {
        "id": "ejtbeUBl2Suu"
      },
      "source": [
        "#####Romoving Emojis"
      ]
    },
    {
      "cell_type": "code",
      "metadata": {
        "id": "7lBJz58k2aD3"
      },
      "source": [
        "def remove_emoji(string):\n",
        "    emoji_pattern = re.compile(\"[\"\n",
        "                               u\"\\U0001F600-\\U0001F64F\"  # emoticons\n",
        "                               u\"\\U0001F300-\\U0001F5FF\"  # symbols & pictographs\n",
        "                               u\"\\U0001F680-\\U0001F6FF\"  # transport & map symbols\n",
        "                               u\"\\U0001F1E0-\\U0001F1FF\"  # flags (iOS)\n",
        "                               u\"\\U00002500-\\U00002BEF\"  # chinese char\n",
        "                               u\"\\U00002702-\\U000027B0\"\n",
        "                               u\"\\U00002702-\\U000027B0\"\n",
        "                               u\"\\U000024C2-\\U0001F251\"\n",
        "                               u\"\\U0001f926-\\U0001f937\"\n",
        "                               u\"\\U00010000-\\U0010ffff\"\n",
        "                               u\"\\u2640-\\u2642\"\n",
        "                               u\"\\u2600-\\u2B55\"\n",
        "                               u\"\\u200d\"\n",
        "                               u\"\\u23cf\"\n",
        "                               u\"\\u23e9\"\n",
        "                               u\"\\u231a\"\n",
        "                               u\"\\ufe0f\"  # dingbats\n",
        "                               u\"\\u3030\"\n",
        "                               \"]+\", flags=re.UNICODE)\n",
        "    return emoji_pattern.sub(r'', string)"
      ],
      "execution_count": 28,
      "outputs": []
    },
    {
      "cell_type": "code",
      "metadata": {
        "colab": {
          "base_uri": "https://localhost:8080/",
          "height": 35
        },
        "id": "CKHI1Zmk2ymX",
        "outputId": "dc322f53-619b-45da-be57-f42db74c5a7d"
      },
      "source": [
        "remove_emoji(\"Omg another Earthquake 😔😔\")"
      ],
      "execution_count": 29,
      "outputs": [
        {
          "output_type": "execute_result",
          "data": {
            "application/vnd.google.colaboratory.intrinsic+json": {
              "type": "string"
            },
            "text/plain": [
              "'Omg another Earthquake '"
            ]
          },
          "metadata": {
            "tags": []
          },
          "execution_count": 29
        }
      ]
    },
    {
      "cell_type": "code",
      "metadata": {
        "id": "kvFM1LQr23jE"
      },
      "source": [
        "df['text'] = df['text'].apply(lambda x:remove_emoji(x))"
      ],
      "execution_count": 30,
      "outputs": []
    },
    {
      "cell_type": "markdown",
      "metadata": {
        "id": "5ucmh_BA28wX"
      },
      "source": [
        "#####Removing punctuations"
      ]
    },
    {
      "cell_type": "code",
      "metadata": {
        "colab": {
          "base_uri": "https://localhost:8080/",
          "height": 35
        },
        "id": "0Bx6BK0K3GH8",
        "outputId": "e436d17d-443c-49f4-8917-20002a63db91"
      },
      "source": [
        "def remove_punct(text):\n",
        "  table = str.maketrans('','',string.punctuation)\n",
        "  return text.translate(table)\n",
        "\n",
        "example = 'I am a #king'\n",
        "remove_punct(example)"
      ],
      "execution_count": 31,
      "outputs": [
        {
          "output_type": "execute_result",
          "data": {
            "application/vnd.google.colaboratory.intrinsic+json": {
              "type": "string"
            },
            "text/plain": [
              "'I am a king'"
            ]
          },
          "metadata": {
            "tags": []
          },
          "execution_count": 31
        }
      ]
    },
    {
      "cell_type": "code",
      "metadata": {
        "id": "2SQZpu3f3V-Z"
      },
      "source": [
        "df['text'] = df['text'].apply(lambda x:remove_punct(x))"
      ],
      "execution_count": 32,
      "outputs": []
    },
    {
      "cell_type": "markdown",
      "metadata": {
        "id": "nJfYgomd3cgl"
      },
      "source": [
        "#####Spelling Correction"
      ]
    },
    {
      "cell_type": "code",
      "metadata": {
        "colab": {
          "base_uri": "https://localhost:8080/"
        },
        "id": "mxc1-iXU3gA3",
        "outputId": "7501d6a0-f786-4573-9ff1-18afd11ae745"
      },
      "source": [
        "!pip install pyspellchecker\n"
      ],
      "execution_count": 33,
      "outputs": [
        {
          "output_type": "stream",
          "text": [
            "Collecting pyspellchecker\n",
            "\u001b[?25l  Downloading https://files.pythonhosted.org/packages/f1/96/827c132397d0eb5731c1eda05dbfb019ede064ca8c7d0f329160ce0a4acd/pyspellchecker-0.5.5-py2.py3-none-any.whl (1.9MB)\n",
            "\u001b[K     |████████████████████████████████| 1.9MB 6.6MB/s \n",
            "\u001b[?25hInstalling collected packages: pyspellchecker\n",
            "Successfully installed pyspellchecker-0.5.5\n"
          ],
          "name": "stdout"
        }
      ]
    },
    {
      "cell_type": "code",
      "metadata": {
        "id": "mrN1iv2l74O1"
      },
      "source": [
        "from spellchecker import SpellChecker\n",
        "\n",
        "spell = SpellChecker()\n",
        "\n",
        "def correct_spelling(text):\n",
        "    corrected_text = []\n",
        "    misspelled_words = spell.unknown(text.split())\n",
        "    for word in text.split():\n",
        "      if word in misspelled_words:\n",
        "          corrected_text.append(spell.correction(word))\n",
        "      else:\n",
        "          corrected_text.append(word)\n",
        "    return \" \".join(corrected_text)\n",
        "        "
      ],
      "execution_count": 34,
      "outputs": []
    },
    {
      "cell_type": "code",
      "metadata": {
        "colab": {
          "base_uri": "https://localhost:8080/",
          "height": 35
        },
        "id": "-naAZ7Vf8nLA",
        "outputId": "240ddf1b-0654-4297-c4ed-480bae9d144b"
      },
      "source": [
        "text = \"corect me please\"\n",
        "correct_spelling(text)"
      ],
      "execution_count": 35,
      "outputs": [
        {
          "output_type": "execute_result",
          "data": {
            "application/vnd.google.colaboratory.intrinsic+json": {
              "type": "string"
            },
            "text/plain": [
              "'correct me please'"
            ]
          },
          "metadata": {
            "tags": []
          },
          "execution_count": 35
        }
      ]
    },
    {
      "cell_type": "code",
      "metadata": {
        "id": "ZT2YvX3G-jyL"
      },
      "source": [
        "#df['text'] = df['text'].apply(lambda x:correct_spelling(x))"
      ],
      "execution_count": 36,
      "outputs": []
    },
    {
      "cell_type": "markdown",
      "metadata": {
        "id": "muwwoTuq-qgA"
      },
      "source": [
        "##GloVe for Vectorization¶\n",
        "Here we will use GloVe pretrained corpus model to represent our words.It is available in 3 varieties :50D ,100D and 200 Dimentional.We will try 100 D here."
      ]
    },
    {
      "cell_type": "code",
      "metadata": {
        "id": "1fSNOz75OjPy"
      },
      "source": [
        "def create_corpus(df):\n",
        "  corpus = []\n",
        "  for tweet in tqdm(df['text']):\n",
        "    words = [word.lower() for word in word_tokenize(tweet) if ((word.isalpha() == 1) & (word not in stop))]\n",
        "    corpus.append(words)\n",
        "  return corpus"
      ],
      "execution_count": 37,
      "outputs": []
    },
    {
      "cell_type": "code",
      "metadata": {
        "colab": {
          "base_uri": "https://localhost:8080/"
        },
        "id": "BeM67QrEPS9m",
        "outputId": "e20ebe42-b553-4cff-c8d5-9352134f4c07"
      },
      "source": [
        "corpus = create_corpus(df)"
      ],
      "execution_count": 38,
      "outputs": [
        {
          "output_type": "stream",
          "text": [
            "100%|██████████| 10876/10876 [00:01<00:00, 7688.88it/s]\n"
          ],
          "name": "stderr"
        }
      ]
    },
    {
      "cell_type": "code",
      "metadata": {
        "id": "I_vuBVD5PV1e"
      },
      "source": [
        "embeding_dict = {}\n",
        "with open('/content/gdrive/MyDrive/glove/glove.840B.300d.txt','r') as f:\n",
        "  for line in f:\n",
        "    values = line.split(' ')\n",
        "    word = values[0]\n",
        "    vectors = np.asarray(values[1:],'float32')\n",
        "    embeding_dict[word] = vectors\n",
        "f.close()"
      ],
      "execution_count": 40,
      "outputs": []
    },
    {
      "cell_type": "code",
      "metadata": {
        "id": "rhOmVOUTQHEN"
      },
      "source": [
        "MAX_LEN = 50\n",
        "tokenizer_obj = Tokenizer()\n",
        "tokenizer_obj.fit_on_texts(corpus)\n",
        "sequences = tokenizer_obj.texts_to_sequences(corpus)\n",
        "\n",
        "tweet_pad = pad_sequences(sequences,maxlen=MAX_LEN,truncating='post',padding='post')"
      ],
      "execution_count": 41,
      "outputs": []
    },
    {
      "cell_type": "code",
      "metadata": {
        "colab": {
          "base_uri": "https://localhost:8080/"
        },
        "id": "yFEEHS6lVXZZ",
        "outputId": "969dac68-a2c2-4401-fc65-112595a7684c"
      },
      "source": [
        "word_index = tokenizer_obj.word_index\n",
        "print('Number of unique words: ',len(word_index))"
      ],
      "execution_count": 42,
      "outputs": [
        {
          "output_type": "stream",
          "text": [
            "Number of unique words:  20342\n"
          ],
          "name": "stdout"
        }
      ]
    },
    {
      "cell_type": "code",
      "metadata": {
        "colab": {
          "base_uri": "https://localhost:8080/"
        },
        "id": "HLaa12al2Fk_",
        "outputId": "34b8aa39-4bb9-4793-f8f9-b6cbdaf26068"
      },
      "source": [
        "num_words=len(word_index)+1\n",
        "embedding_matrix=np.zeros((num_words,300))\n",
        "\n",
        "for word,i in tqdm(word_index.items()):\n",
        "    if i > num_words:\n",
        "        continue\n",
        "    \n",
        "    emb_vec=embeding_dict.get(word)\n",
        "    if emb_vec is not None:\n",
        "        embedding_matrix[i]=emb_vec"
      ],
      "execution_count": 43,
      "outputs": [
        {
          "output_type": "stream",
          "text": [
            "100%|██████████| 20342/20342 [00:00<00:00, 400737.08it/s]\n"
          ],
          "name": "stderr"
        }
      ]
    },
    {
      "cell_type": "markdown",
      "metadata": {
        "id": "xGUqOlYV2NCL"
      },
      "source": [
        "##BASELINE MODEL"
      ]
    },
    {
      "cell_type": "code",
      "metadata": {
        "colab": {
          "base_uri": "https://localhost:8080/"
        },
        "id": "OE8qxMN82elA",
        "outputId": "22bda0dd-50f4-48db-a08b-6e162b324cca"
      },
      "source": [
        "model=Sequential()\n",
        "\n",
        "embedding=Embedding(num_words,300,embeddings_initializer=Constant(embedding_matrix),\n",
        "                   input_length=MAX_LEN,trainable=False)\n",
        "\n",
        "model.add(embedding)\n",
        "model.add(SpatialDropout1D(0.2))\n",
        "model.add(LSTM(64, dropout=0.2, recurrent_dropout=0.2))\n",
        "model.add(Dense(1, activation='sigmoid'))\n",
        "\n",
        "\n",
        "optimzer=Adam(learning_rate=1e-5)\n",
        "\n",
        "model.compile(loss='binary_crossentropy',optimizer=optimzer,metrics=['accuracy'])"
      ],
      "execution_count": 44,
      "outputs": [
        {
          "output_type": "stream",
          "text": [
            "WARNING:tensorflow:Layer lstm will not use cuDNN kernel since it doesn't meet the cuDNN kernel criteria. It will use generic GPU kernel as fallback when running on GPU\n"
          ],
          "name": "stdout"
        }
      ]
    },
    {
      "cell_type": "code",
      "metadata": {
        "colab": {
          "base_uri": "https://localhost:8080/"
        },
        "id": "KJNTgI7K2iZg",
        "outputId": "3e1b5bc7-7eb6-4d93-d468-e64d9adf60c2"
      },
      "source": [
        "model.summary()"
      ],
      "execution_count": 45,
      "outputs": [
        {
          "output_type": "stream",
          "text": [
            "Model: \"sequential\"\n",
            "_________________________________________________________________\n",
            "Layer (type)                 Output Shape              Param #   \n",
            "=================================================================\n",
            "embedding (Embedding)        (None, 50, 300)           6102900   \n",
            "_________________________________________________________________\n",
            "spatial_dropout1d (SpatialDr (None, 50, 300)           0         \n",
            "_________________________________________________________________\n",
            "lstm (LSTM)                  (None, 64)                93440     \n",
            "_________________________________________________________________\n",
            "dense (Dense)                (None, 1)                 65        \n",
            "=================================================================\n",
            "Total params: 6,196,405\n",
            "Trainable params: 93,505\n",
            "Non-trainable params: 6,102,900\n",
            "_________________________________________________________________\n"
          ],
          "name": "stdout"
        }
      ]
    },
    {
      "cell_type": "code",
      "metadata": {
        "id": "ccCxLix62j6l"
      },
      "source": [
        "train=tweet_pad[:tweet.shape[0]]\n",
        "test=tweet_pad[tweet.shape[0]:]"
      ],
      "execution_count": 46,
      "outputs": []
    },
    {
      "cell_type": "code",
      "metadata": {
        "colab": {
          "base_uri": "https://localhost:8080/"
        },
        "id": "UMCZ3PmA2mKa",
        "outputId": "fca0c7de-fb24-42db-da01-d07e80d247e2"
      },
      "source": [
        "X_train,X_test,y_train,y_test=train_test_split(train,tweet['target'].values,test_size=0.15)\n",
        "print('Shape of train',X_train.shape)\n",
        "print(\"Shape of Validation \",X_test.shape)"
      ],
      "execution_count": 47,
      "outputs": [
        {
          "output_type": "stream",
          "text": [
            "Shape of train (6471, 50)\n",
            "Shape of Validation  (1142, 50)\n"
          ],
          "name": "stdout"
        }
      ]
    },
    {
      "cell_type": "code",
      "metadata": {
        "colab": {
          "base_uri": "https://localhost:8080/"
        },
        "id": "v3KilL9M2n0L",
        "outputId": "fd261f7b-af48-4be2-fdc1-fb39263e06ba"
      },
      "source": [
        "history=model.fit(X_train,y_train,batch_size=4,epochs=25,validation_data=(X_test,y_test),verbose=2)"
      ],
      "execution_count": 48,
      "outputs": [
        {
          "output_type": "stream",
          "text": [
            "Epoch 1/25\n",
            "1618/1618 - 259s - loss: 0.6761 - accuracy: 0.6001 - val_loss: 0.5750 - val_accuracy: 0.7320\n",
            "Epoch 2/25\n",
            "1618/1618 - 255s - loss: 0.5304 - accuracy: 0.7577 - val_loss: 0.5389 - val_accuracy: 0.7417\n",
            "Epoch 3/25\n",
            "1618/1618 - 258s - loss: 0.5086 - accuracy: 0.7694 - val_loss: 0.5234 - val_accuracy: 0.7513\n",
            "Epoch 4/25\n",
            "1618/1618 - 256s - loss: 0.4948 - accuracy: 0.7764 - val_loss: 0.5123 - val_accuracy: 0.7574\n",
            "Epoch 5/25\n",
            "1618/1618 - 255s - loss: 0.4807 - accuracy: 0.7920 - val_loss: 0.5048 - val_accuracy: 0.7706\n",
            "Epoch 6/25\n",
            "1618/1618 - 258s - loss: 0.4737 - accuracy: 0.7889 - val_loss: 0.4981 - val_accuracy: 0.7732\n",
            "Epoch 7/25\n",
            "1618/1618 - 263s - loss: 0.4676 - accuracy: 0.7938 - val_loss: 0.4923 - val_accuracy: 0.7785\n",
            "Epoch 8/25\n",
            "1618/1618 - 262s - loss: 0.4599 - accuracy: 0.7997 - val_loss: 0.4896 - val_accuracy: 0.7793\n",
            "Epoch 9/25\n",
            "1618/1618 - 263s - loss: 0.4583 - accuracy: 0.8039 - val_loss: 0.4861 - val_accuracy: 0.7811\n",
            "Epoch 10/25\n",
            "1618/1618 - 265s - loss: 0.4541 - accuracy: 0.8020 - val_loss: 0.4836 - val_accuracy: 0.7837\n",
            "Epoch 11/25\n",
            "1618/1618 - 261s - loss: 0.4448 - accuracy: 0.8082 - val_loss: 0.4810 - val_accuracy: 0.7890\n",
            "Epoch 12/25\n",
            "1618/1618 - 264s - loss: 0.4471 - accuracy: 0.8056 - val_loss: 0.4790 - val_accuracy: 0.7890\n",
            "Epoch 13/25\n",
            "1618/1618 - 265s - loss: 0.4434 - accuracy: 0.8076 - val_loss: 0.4746 - val_accuracy: 0.7925\n",
            "Epoch 14/25\n",
            "1618/1618 - 270s - loss: 0.4393 - accuracy: 0.8098 - val_loss: 0.4740 - val_accuracy: 0.7863\n",
            "Epoch 15/25\n",
            "1618/1618 - 267s - loss: 0.4420 - accuracy: 0.8118 - val_loss: 0.4768 - val_accuracy: 0.7890\n",
            "Epoch 16/25\n",
            "1618/1618 - 264s - loss: 0.4445 - accuracy: 0.8082 - val_loss: 0.4737 - val_accuracy: 0.7872\n",
            "Epoch 17/25\n",
            "1618/1618 - 266s - loss: 0.4362 - accuracy: 0.8102 - val_loss: 0.4725 - val_accuracy: 0.7881\n",
            "Epoch 18/25\n",
            "1618/1618 - 264s - loss: 0.4308 - accuracy: 0.8169 - val_loss: 0.4703 - val_accuracy: 0.7907\n",
            "Epoch 19/25\n",
            "1618/1618 - 258s - loss: 0.4295 - accuracy: 0.8158 - val_loss: 0.4731 - val_accuracy: 0.7898\n",
            "Epoch 20/25\n",
            "1618/1618 - 257s - loss: 0.4355 - accuracy: 0.8096 - val_loss: 0.4703 - val_accuracy: 0.7925\n",
            "Epoch 21/25\n",
            "1618/1618 - 253s - loss: 0.4320 - accuracy: 0.8107 - val_loss: 0.4673 - val_accuracy: 0.7890\n",
            "Epoch 22/25\n",
            "1618/1618 - 254s - loss: 0.4254 - accuracy: 0.8180 - val_loss: 0.4696 - val_accuracy: 0.7916\n",
            "Epoch 23/25\n",
            "1618/1618 - 252s - loss: 0.4251 - accuracy: 0.8190 - val_loss: 0.4672 - val_accuracy: 0.7881\n",
            "Epoch 24/25\n",
            "1618/1618 - 250s - loss: 0.4267 - accuracy: 0.8161 - val_loss: 0.4658 - val_accuracy: 0.7898\n",
            "Epoch 25/25\n",
            "1618/1618 - 257s - loss: 0.4218 - accuracy: 0.8203 - val_loss: 0.4668 - val_accuracy: 0.7855\n"
          ],
          "name": "stdout"
        }
      ]
    },
    {
      "cell_type": "code",
      "metadata": {
        "colab": {
          "base_uri": "https://localhost:8080/",
          "height": 592
        },
        "id": "ToUXBJUg2p5K",
        "outputId": "1dd68202-d15f-49e1-f98c-ec3b1a37a2a6"
      },
      "source": [
        "epochs = [i for i in range(25)]\n",
        "fig,ax = plt.subplots(1,2)\n",
        "train_acc = history.history['accuracy']\n",
        "train_loss = history.history['loss']\n",
        "val_acc = history.history['val_accuracy']\n",
        "val_loss = history.history['val_loss']\n",
        "fig.set_size_inches(20,10)\n",
        "\n",
        "ax[0].plot(epochs , train_acc , 'go-' , label = 'Training Accuracy')\n",
        "ax[0].plot(epochs , val_acc , 'ro-' , label = 'Validation Accuracy')\n",
        "ax[0].set_title('Training & Validation Accuracy')\n",
        "ax[0].legend()\n",
        "ax[0].set_xlabel(\"Epochs\")\n",
        "ax[0].set_ylabel(\"Accuracy\")\n",
        "\n",
        "ax[1].plot(epochs , train_loss , 'g-o' , label = 'Training Loss')\n",
        "ax[1].plot(epochs , val_loss , 'r-o' , label = 'Validation Loss')\n",
        "ax[1].set_title('Testing Accuracy & Loss')\n",
        "ax[1].legend()\n",
        "ax[1].set_xlabel(\"Epochs\")\n",
        "ax[1].set_ylabel(\"Training & Validation Loss\")\n",
        "plt.show()"
      ],
      "execution_count": 50,
      "outputs": [
        {
          "output_type": "display_data",
          "data": {
            "image/png": "[encoded data removed]",
            "text/plain": [
              "<Figure size 1440x720 with 2 Axes>"
            ]
          },
          "metadata": {
            "tags": [],
            "needs_background": "light"
          }
        }
      ]
    }
  ]
}