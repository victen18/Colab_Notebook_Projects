{
  "nbformat": 4,
  "nbformat_minor": 0,
  "metadata": {
    "colab": {
      "name": "html-scrapper-streamlit-google-colab.ipynb",
      "provenance": [],
      "authorship_tag": "ABX9TyMyrTmW0oKNQ7WfV8VY6Bul",
      "include_colab_link": true
    },
    "kernelspec": {
      "name": "python3",
      "display_name": "Python 3"
    }
  },
  "cells": [
    {
      "cell_type": "markdown",
      "metadata": {
        "id": "view-in-github",
        "colab_type": "text"
      },
      "source": [
        "<a href=\"https://colab.research.google.com/github/victen18/Colab_Notebook_Projects/blob/main/html_scrapper_streamlit_google_colab.ipynb\" target=\"_parent\"><img src=\"https://colab.research.google.com/assets/colab-badge.svg\" alt=\"Open In Colab\"/></a>"
      ]
    },
    {
      "cell_type": "code",
      "metadata": {
        "colab": {
          "base_uri": "https://localhost:8080/"
        },
        "id": "4BkizVg14Rfn",
        "outputId": "6000a95c-ede1-4ef3-9731-1a658d63b579"
      },
      "source": [
        "!pip install -q streamlit"
      ],
      "execution_count": 1,
      "outputs": [
        {
          "output_type": "stream",
          "text": [
            "\u001b[K     |████████████████████████████████| 7.4MB 8.3MB/s \n",
            "\u001b[K     |████████████████████████████████| 102kB 14.3MB/s \n",
            "\u001b[K     |████████████████████████████████| 112kB 49.1MB/s \n",
            "\u001b[K     |████████████████████████████████| 4.5MB 52.3MB/s \n",
            "\u001b[K     |████████████████████████████████| 163kB 53.8MB/s \n",
            "\u001b[K     |████████████████████████████████| 122kB 55.7MB/s \n",
            "\u001b[K     |████████████████████████████████| 71kB 11.1MB/s \n",
            "\u001b[?25h  Building wheel for watchdog (setup.py) ... \u001b[?25l\u001b[?25hdone\n",
            "  Building wheel for blinker (setup.py) ... \u001b[?25l\u001b[?25hdone\n",
            "\u001b[31mERROR: google-colab 1.0.0 has requirement ipykernel~=4.10, but you'll have ipykernel 5.4.2 which is incompatible.\u001b[0m\n"
          ],
          "name": "stdout"
        }
      ]
    },
    {
      "cell_type": "code",
      "metadata": {
        "colab": {
          "base_uri": "https://localhost:8080/"
        },
        "id": "o_W25aVZ4sEd",
        "outputId": "03d27905-cace-41e8-8293-f4f6df9cdf8c"
      },
      "source": [
        "!wget https://raw.githubusercontent.com/CharlyWargnier/python-html-table-scraper/master/app.py"
      ],
      "execution_count": 1,
      "outputs": [
        {
          "output_type": "stream",
          "text": [
            "--2020-12-12 16:58:32--  https://raw.githubusercontent.com/CharlyWargnier/python-html-table-scraper/master/app.py\n",
            "Resolving raw.githubusercontent.com (raw.githubusercontent.com)... 151.101.0.133, 151.101.64.133, 151.101.128.133, ...\n",
            "Connecting to raw.githubusercontent.com (raw.githubusercontent.com)|151.101.0.133|:443... connected.\n",
            "HTTP request sent, awaiting response... 200 OK\n",
            "Length: 3661 (3.6K) [text/plain]\n",
            "Saving to: ‘app.py’\n",
            "\n",
            "app.py              100%[===================>]   3.58K  --.-KB/s    in 0s      \n",
            "\n",
            "2020-12-12 16:58:32 (62.0 MB/s) - ‘app.py’ saved [3661/3661]\n",
            "\n"
          ],
          "name": "stdout"
        }
      ]
    },
    {
      "cell_type": "code",
      "metadata": {
        "colab": {
          "base_uri": "https://localhost:8080/"
        },
        "id": "nQO0HOwB47hA",
        "outputId": "ecc680c2-b8dc-487b-f995-6500e14d9732"
      },
      "source": [
        "!wget https://bin.equinox.io/c/4VmDzA7iaHb/ngrok-stable-linux-amd64.zip"
      ],
      "execution_count": 2,
      "outputs": [
        {
          "output_type": "stream",
          "text": [
            "--2020-12-12 16:59:25--  https://bin.equinox.io/c/4VmDzA7iaHb/ngrok-stable-linux-amd64.zip\n",
            "Resolving bin.equinox.io (bin.equinox.io)... 3.209.74.119, 52.204.93.39, 54.236.206.131, ...\n",
            "Connecting to bin.equinox.io (bin.equinox.io)|3.209.74.119|:443... connected.\n",
            "HTTP request sent, awaiting response... 200 OK\n",
            "Length: 13773305 (13M) [application/octet-stream]\n",
            "Saving to: ‘ngrok-stable-linux-amd64.zip’\n",
            "\n",
            "ngrok-stable-linux- 100%[===================>]  13.13M  16.5MB/s    in 0.8s    \n",
            "\n",
            "2020-12-12 16:59:27 (16.5 MB/s) - ‘ngrok-stable-linux-amd64.zip’ saved [13773305/13773305]\n",
            "\n"
          ],
          "name": "stdout"
        }
      ]
    },
    {
      "cell_type": "code",
      "metadata": {
        "colab": {
          "base_uri": "https://localhost:8080/"
        },
        "id": "zUONPsOc5IpG",
        "outputId": "0c2137ec-d154-4f90-fc28-155a0ccd8759"
      },
      "source": [
        "!unzip ngrok-stable-linux-amd64.zip"
      ],
      "execution_count": 3,
      "outputs": [
        {
          "output_type": "stream",
          "text": [
            "Archive:  ngrok-stable-linux-amd64.zip\n",
            "  inflating: ngrok                   \n"
          ],
          "name": "stdout"
        }
      ]
    },
    {
      "cell_type": "code",
      "metadata": {
        "id": "cmukPKsy5LA5"
      },
      "source": [
        "\r\n",
        "get_ipython().system_raw('./ngrok http 8501 &')"
      ],
      "execution_count": 4,
      "outputs": []
    },
    {
      "cell_type": "code",
      "metadata": {
        "colab": {
          "base_uri": "https://localhost:8080/"
        },
        "id": "v9xEZjN95NU6",
        "outputId": "8ae585fb-ff25-48e3-a8e6-145ac5b21ecd"
      },
      "source": [
        "\r\n",
        "!curl -s http://localhost:4040/api/tunnels | python3 -c \\\r\n",
        "    'import sys, json; print(\"Execute the next cell and the go to the following URL: \" +json.load(sys.stdin)[\"tunnels\"][0][\"public_url\"])'"
      ],
      "execution_count": 5,
      "outputs": [
        {
          "output_type": "stream",
          "text": [
            "Execute the next cell and the go to the following URL: https://cb2c41340328.ngrok.io\n"
          ],
          "name": "stdout"
        }
      ]
    },
    {
      "cell_type": "code",
      "metadata": {
        "colab": {
          "base_uri": "https://localhost:8080/"
        },
        "id": "nZTtOjaL5RM4",
        "outputId": "01bdcc73-280d-4167-de2c-76c0457bab64"
      },
      "source": [
        "!streamlit run /content/app.py"
      ],
      "execution_count": null,
      "outputs": [
        {
          "output_type": "stream",
          "text": [
            "\u001b[0m\n",
            "\u001b[34m\u001b[1m  You can now view your Streamlit app in your browser.\u001b[0m\n",
            "\u001b[0m\n",
            "\u001b[34m  Network URL: \u001b[0m\u001b[1mhttp://172.28.0.2:8501\u001b[0m\n",
            "\u001b[34m  External URL: \u001b[0m\u001b[1mhttp://104.198.106.55:8501\u001b[0m\n",
            "\u001b[0m\n",
            "2020-12-12 17:00:39.228 NumExpr defaulting to 2 threads.\n",
            "wait\n"
          ],
          "name": "stdout"
        }
      ]
    },
    {
      "cell_type": "code",
      "metadata": {
        "id": "Z2xVHtS25aLb"
      },
      "source": [
        ""
      ],
      "execution_count": null,
      "outputs": []
    }
  ]
}